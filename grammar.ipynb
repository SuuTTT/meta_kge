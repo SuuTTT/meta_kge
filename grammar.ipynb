{
 "cells": [
  {
   "cell_type": "code",
   "execution_count": 3,
   "metadata": {},
   "outputs": [
    {
     "name": "stdout",
     "output_type": "stream",
     "text": [
      "483142\n",
      "0 1 0\n",
      "\n"
     ]
    }
   ],
   "source": [
    "data='FB15K'\n",
    "path_data = './benchmarks/' + data + '/'\n",
    "\n",
    "train = open(path_data + 'train2id.txt', 'r')\n",
    "size_train = int(train.readline().strip())\n",
    "print(size_train)\n",
    "print(train.readline())"
   ]
  },
  {
   "cell_type": "code",
   "execution_count": null,
   "metadata": {},
   "outputs": [],
   "source": []
  }
 ],
 "metadata": {
  "interpreter": {
   "hash": "da52a6595bb32b11c4641c0083e74d76fdb6e9bac2eb230ba1898f95245ebfa6"
  },
  "kernelspec": {
   "display_name": "Python 3.8.12 64-bit ('d2l': conda)",
   "language": "python",
   "name": "python3"
  },
  "language_info": {
   "codemirror_mode": {
    "name": "ipython",
    "version": 3
   },
   "file_extension": ".py",
   "mimetype": "text/x-python",
   "name": "python",
   "nbconvert_exporter": "python",
   "pygments_lexer": "ipython3",
   "version": "3.8.12"
  },
  "orig_nbformat": 4
 },
 "nbformat": 4,
 "nbformat_minor": 2
}
